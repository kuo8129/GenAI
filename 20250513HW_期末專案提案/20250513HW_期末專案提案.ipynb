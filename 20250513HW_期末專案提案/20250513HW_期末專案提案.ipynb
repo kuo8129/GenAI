{
  "nbformat": 4,
  "nbformat_minor": 0,
  "metadata": {
    "colab": {
      "provenance": [],
      "authorship_tag": "ABX9TyPrdaWepP/gloeAXGgFXoZX",
      "include_colab_link": true
    },
    "kernelspec": {
      "name": "python3",
      "display_name": "Python 3"
    },
    "language_info": {
      "name": "python"
    }
  },
  "cells": [
    {
      "cell_type": "markdown",
      "metadata": {
        "id": "view-in-github",
        "colab_type": "text"
      },
      "source": [
        "<a href=\"https://colab.research.google.com/github/kuo8129/GenAI/blob/main/20250513HW_%E6%9C%9F%E6%9C%AB%E5%B0%88%E6%A1%88%E6%8F%90%E6%A1%88/20250513HW_%E6%9C%9F%E6%9C%AB%E5%B0%88%E6%A1%88%E6%8F%90%E6%A1%88.ipynb\" target=\"_parent\"><img src=\"https://colab.research.google.com/assets/colab-badge.svg\" alt=\"Open In Colab\"/></a>"
      ]
    },
    {
      "cell_type": "markdown",
      "source": [
        "# **智慧旅遊推薦系統**🌤️"
      ],
      "metadata": {
        "id": "eji3r9DPLejg"
      }
    },
    {
      "cell_type": "markdown",
      "source": [
        "### **緣起**\n",
        "\n",
        "在構思期末專案主題時，我希望能實作一個結合RAG技術的應用。然而，考量到自身手邊具系統性的大型資料有限，因此開始瀏覽各大開放資料平台，希望能運用免費、真實的開放資料，來實作一個RAG系統應用，提升自己的實作能力。\n",
        "\n",
        "在經過對資料主題及類型與自身背景能力的綜合評估後，我發現旅遊觀光類的資料不僅豐富，且易於理解及應用，加上過去已有透過API使用中央氣象署提取天氣資訊的經驗，覺得可以一併整合成更進階的應用，因此決定以旅遊推薦作為專案的主題，嘗試打造一套能結合天氣與景點資訊的智慧旅遊推薦系統。"
      ],
      "metadata": {
        "id": "u1W9vRuaLmbg"
      }
    },
    {
      "cell_type": "markdown",
      "source": [
        "### **專案目標**\n",
        "\n",
        "結合課堂所學的RAG技術與AI Agent概念，打造一個具備主動查詢天氣與檢索景點資訊的智能系統，可根據使用者輸入的地點與當地天氣資訊，靈活生成旅遊建議。"
      ],
      "metadata": {
        "id": "EFWMQUtXNKVx"
      }
    },
    {
      "cell_type": "markdown",
      "source": [
        "### **所需資源**\n",
        "\n",
        "開放資料\n",
        "\n",
        "> 政府資料開放平台 景點 - 觀光資訊資料庫\n",
        "\n",
        "外部 API\n",
        "> 中央氣象署氣象資料開放平臺 天氣預報"
      ],
      "metadata": {
        "id": "TZhiJ9P1N3uZ"
      }
    },
    {
      "cell_type": "markdown",
      "source": [
        "### **系統流程設計**\n",
        "\n",
        "1. 使用者輸入：使用者輸入的臺灣縣市名稱\n",
        "2. 天氣查詢：透過中央氣象署API擷取該縣市的天氣資訊\n",
        "3. 景點檢索與篩選：查詢該縣市的觀光景點資料，並根據天氣資訊選出適合的景點類型\n",
        "4. 旅遊建議生成：整理天氣與景點資訊，生成完整的旅遊建議，輸出給使用者參考\n"
      ],
      "metadata": {
        "id": "jE25hnb9PKR1"
      }
    }
  ]
}