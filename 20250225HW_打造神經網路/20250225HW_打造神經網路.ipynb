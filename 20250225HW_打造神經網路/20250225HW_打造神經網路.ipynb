{
  "cells": [
    {
      "cell_type": "markdown",
      "metadata": {
        "id": "view-in-github",
        "colab_type": "text"
      },
      "source": [
        "<a href=\"https://colab.research.google.com/github/kuo8129/GenAI/blob/main/20250225HW_%E6%89%93%E9%80%A0%E7%A5%9E%E7%B6%93%E7%B6%B2%E8%B7%AF/20250225HW_%E6%89%93%E9%80%A0%E7%A5%9E%E7%B6%93%E7%B6%B2%E8%B7%AF.ipynb\" target=\"_parent\"><img src=\"https://colab.research.google.com/assets/colab-badge.svg\" alt=\"Open In Colab\"/></a>"
      ]
    },
    {
      "cell_type": "markdown",
      "metadata": {
        "id": "-vM87RVB22HF"
      },
      "source": [
        "# 讀入套件"
      ]
    },
    {
      "cell_type": "code",
      "execution_count": 1,
      "metadata": {
        "colab": {
          "base_uri": "https://localhost:8080/"
        },
        "id": "_tAjh9N32sEE",
        "outputId": "a6f585fb-7fa7-40fc-9dc5-9b5cf315a539"
      },
      "outputs": [
        {
          "output_type": "stream",
          "name": "stdout",
          "text": [
            "Collecting gradio\n",
            "  Downloading gradio-5.20.1-py3-none-any.whl.metadata (16 kB)\n",
            "Collecting aiofiles<24.0,>=22.0 (from gradio)\n",
            "  Downloading aiofiles-23.2.1-py3-none-any.whl.metadata (9.7 kB)\n",
            "Requirement already satisfied: anyio<5.0,>=3.0 in /usr/local/lib/python3.11/dist-packages (from gradio) (3.7.1)\n",
            "Collecting fastapi<1.0,>=0.115.2 (from gradio)\n",
            "  Downloading fastapi-0.115.11-py3-none-any.whl.metadata (27 kB)\n",
            "Collecting ffmpy (from gradio)\n",
            "  Downloading ffmpy-0.5.0-py3-none-any.whl.metadata (3.0 kB)\n",
            "Collecting gradio-client==1.7.2 (from gradio)\n",
            "  Downloading gradio_client-1.7.2-py3-none-any.whl.metadata (7.1 kB)\n",
            "Collecting groovy~=0.1 (from gradio)\n",
            "  Downloading groovy-0.1.2-py3-none-any.whl.metadata (6.1 kB)\n",
            "Requirement already satisfied: httpx>=0.24.1 in /usr/local/lib/python3.11/dist-packages (from gradio) (0.28.1)\n",
            "Requirement already satisfied: huggingface-hub>=0.28.1 in /usr/local/lib/python3.11/dist-packages (from gradio) (0.28.1)\n",
            "Requirement already satisfied: jinja2<4.0 in /usr/local/lib/python3.11/dist-packages (from gradio) (3.1.5)\n",
            "Collecting markupsafe~=2.0 (from gradio)\n",
            "  Downloading MarkupSafe-2.1.5-cp311-cp311-manylinux_2_17_x86_64.manylinux2014_x86_64.whl.metadata (3.0 kB)\n",
            "Requirement already satisfied: numpy<3.0,>=1.0 in /usr/local/lib/python3.11/dist-packages (from gradio) (1.26.4)\n",
            "Requirement already satisfied: orjson~=3.0 in /usr/local/lib/python3.11/dist-packages (from gradio) (3.10.15)\n",
            "Requirement already satisfied: packaging in /usr/local/lib/python3.11/dist-packages (from gradio) (24.2)\n",
            "Requirement already satisfied: pandas<3.0,>=1.0 in /usr/local/lib/python3.11/dist-packages (from gradio) (2.2.2)\n",
            "Requirement already satisfied: pillow<12.0,>=8.0 in /usr/local/lib/python3.11/dist-packages (from gradio) (11.1.0)\n",
            "Requirement already satisfied: pydantic>=2.0 in /usr/local/lib/python3.11/dist-packages (from gradio) (2.10.6)\n",
            "Collecting pydub (from gradio)\n",
            "  Downloading pydub-0.25.1-py2.py3-none-any.whl.metadata (1.4 kB)\n",
            "Collecting python-multipart>=0.0.18 (from gradio)\n",
            "  Downloading python_multipart-0.0.20-py3-none-any.whl.metadata (1.8 kB)\n",
            "Requirement already satisfied: pyyaml<7.0,>=5.0 in /usr/local/lib/python3.11/dist-packages (from gradio) (6.0.2)\n",
            "Collecting ruff>=0.9.3 (from gradio)\n",
            "  Downloading ruff-0.9.10-py3-none-manylinux_2_17_x86_64.manylinux2014_x86_64.whl.metadata (25 kB)\n",
            "Collecting safehttpx<0.2.0,>=0.1.6 (from gradio)\n",
            "  Downloading safehttpx-0.1.6-py3-none-any.whl.metadata (4.2 kB)\n",
            "Collecting semantic-version~=2.0 (from gradio)\n",
            "  Downloading semantic_version-2.10.0-py2.py3-none-any.whl.metadata (9.7 kB)\n",
            "Collecting starlette<1.0,>=0.40.0 (from gradio)\n",
            "  Downloading starlette-0.46.1-py3-none-any.whl.metadata (6.2 kB)\n",
            "Collecting tomlkit<0.14.0,>=0.12.0 (from gradio)\n",
            "  Downloading tomlkit-0.13.2-py3-none-any.whl.metadata (2.7 kB)\n",
            "Requirement already satisfied: typer<1.0,>=0.12 in /usr/local/lib/python3.11/dist-packages (from gradio) (0.15.2)\n",
            "Requirement already satisfied: typing-extensions~=4.0 in /usr/local/lib/python3.11/dist-packages (from gradio) (4.12.2)\n",
            "Collecting uvicorn>=0.14.0 (from gradio)\n",
            "  Downloading uvicorn-0.34.0-py3-none-any.whl.metadata (6.5 kB)\n",
            "Requirement already satisfied: fsspec in /usr/local/lib/python3.11/dist-packages (from gradio-client==1.7.2->gradio) (2024.10.0)\n",
            "Requirement already satisfied: websockets<16.0,>=10.0 in /usr/local/lib/python3.11/dist-packages (from gradio-client==1.7.2->gradio) (14.2)\n",
            "Requirement already satisfied: idna>=2.8 in /usr/local/lib/python3.11/dist-packages (from anyio<5.0,>=3.0->gradio) (3.10)\n",
            "Requirement already satisfied: sniffio>=1.1 in /usr/local/lib/python3.11/dist-packages (from anyio<5.0,>=3.0->gradio) (1.3.1)\n",
            "Requirement already satisfied: certifi in /usr/local/lib/python3.11/dist-packages (from httpx>=0.24.1->gradio) (2025.1.31)\n",
            "Requirement already satisfied: httpcore==1.* in /usr/local/lib/python3.11/dist-packages (from httpx>=0.24.1->gradio) (1.0.7)\n",
            "Requirement already satisfied: h11<0.15,>=0.13 in /usr/local/lib/python3.11/dist-packages (from httpcore==1.*->httpx>=0.24.1->gradio) (0.14.0)\n",
            "Requirement already satisfied: filelock in /usr/local/lib/python3.11/dist-packages (from huggingface-hub>=0.28.1->gradio) (3.17.0)\n",
            "Requirement already satisfied: requests in /usr/local/lib/python3.11/dist-packages (from huggingface-hub>=0.28.1->gradio) (2.32.3)\n",
            "Requirement already satisfied: tqdm>=4.42.1 in /usr/local/lib/python3.11/dist-packages (from huggingface-hub>=0.28.1->gradio) (4.67.1)\n",
            "Requirement already satisfied: python-dateutil>=2.8.2 in /usr/local/lib/python3.11/dist-packages (from pandas<3.0,>=1.0->gradio) (2.8.2)\n",
            "Requirement already satisfied: pytz>=2020.1 in /usr/local/lib/python3.11/dist-packages (from pandas<3.0,>=1.0->gradio) (2025.1)\n",
            "Requirement already satisfied: tzdata>=2022.7 in /usr/local/lib/python3.11/dist-packages (from pandas<3.0,>=1.0->gradio) (2025.1)\n",
            "Requirement already satisfied: annotated-types>=0.6.0 in /usr/local/lib/python3.11/dist-packages (from pydantic>=2.0->gradio) (0.7.0)\n",
            "Requirement already satisfied: pydantic-core==2.27.2 in /usr/local/lib/python3.11/dist-packages (from pydantic>=2.0->gradio) (2.27.2)\n",
            "Requirement already satisfied: click>=8.0.0 in /usr/local/lib/python3.11/dist-packages (from typer<1.0,>=0.12->gradio) (8.1.8)\n",
            "Requirement already satisfied: shellingham>=1.3.0 in /usr/local/lib/python3.11/dist-packages (from typer<1.0,>=0.12->gradio) (1.5.4)\n",
            "Requirement already satisfied: rich>=10.11.0 in /usr/local/lib/python3.11/dist-packages (from typer<1.0,>=0.12->gradio) (13.9.4)\n",
            "Requirement already satisfied: six>=1.5 in /usr/local/lib/python3.11/dist-packages (from python-dateutil>=2.8.2->pandas<3.0,>=1.0->gradio) (1.17.0)\n",
            "Requirement already satisfied: markdown-it-py>=2.2.0 in /usr/local/lib/python3.11/dist-packages (from rich>=10.11.0->typer<1.0,>=0.12->gradio) (3.0.0)\n",
            "Requirement already satisfied: pygments<3.0.0,>=2.13.0 in /usr/local/lib/python3.11/dist-packages (from rich>=10.11.0->typer<1.0,>=0.12->gradio) (2.18.0)\n",
            "Requirement already satisfied: charset-normalizer<4,>=2 in /usr/local/lib/python3.11/dist-packages (from requests->huggingface-hub>=0.28.1->gradio) (3.4.1)\n",
            "Requirement already satisfied: urllib3<3,>=1.21.1 in /usr/local/lib/python3.11/dist-packages (from requests->huggingface-hub>=0.28.1->gradio) (2.3.0)\n",
            "Requirement already satisfied: mdurl~=0.1 in /usr/local/lib/python3.11/dist-packages (from markdown-it-py>=2.2.0->rich>=10.11.0->typer<1.0,>=0.12->gradio) (0.1.2)\n",
            "Downloading gradio-5.20.1-py3-none-any.whl (62.3 MB)\n",
            "\u001b[2K   \u001b[90m━━━━━━━━━━━━━━━━━━━━━━━━━━━━━━━━━━━━━━━━\u001b[0m \u001b[32m62.3/62.3 MB\u001b[0m \u001b[31m12.3 MB/s\u001b[0m eta \u001b[36m0:00:00\u001b[0m\n",
            "\u001b[?25hDownloading gradio_client-1.7.2-py3-none-any.whl (322 kB)\n",
            "\u001b[2K   \u001b[90m━━━━━━━━━━━━━━━━━━━━━━━━━━━━━━━━━━━━━━━━\u001b[0m \u001b[32m322.1/322.1 kB\u001b[0m \u001b[31m10.6 MB/s\u001b[0m eta \u001b[36m0:00:00\u001b[0m\n",
            "\u001b[?25hDownloading aiofiles-23.2.1-py3-none-any.whl (15 kB)\n",
            "Downloading fastapi-0.115.11-py3-none-any.whl (94 kB)\n",
            "\u001b[2K   \u001b[90m━━━━━━━━━━━━━━━━━━━━━━━━━━━━━━━━━━━━━━━━\u001b[0m \u001b[32m94.9/94.9 kB\u001b[0m \u001b[31m1.7 MB/s\u001b[0m eta \u001b[36m0:00:00\u001b[0m\n",
            "\u001b[?25hDownloading groovy-0.1.2-py3-none-any.whl (14 kB)\n",
            "Downloading MarkupSafe-2.1.5-cp311-cp311-manylinux_2_17_x86_64.manylinux2014_x86_64.whl (28 kB)\n",
            "Downloading python_multipart-0.0.20-py3-none-any.whl (24 kB)\n",
            "Downloading ruff-0.9.10-py3-none-manylinux_2_17_x86_64.manylinux2014_x86_64.whl (11.3 MB)\n",
            "\u001b[2K   \u001b[90m━━━━━━━━━━━━━━━━━━━━━━━━━━━━━━━━━━━━━━━━\u001b[0m \u001b[32m11.3/11.3 MB\u001b[0m \u001b[31m44.1 MB/s\u001b[0m eta \u001b[36m0:00:00\u001b[0m\n",
            "\u001b[?25hDownloading safehttpx-0.1.6-py3-none-any.whl (8.7 kB)\n",
            "Downloading semantic_version-2.10.0-py2.py3-none-any.whl (15 kB)\n",
            "Downloading starlette-0.46.1-py3-none-any.whl (71 kB)\n",
            "\u001b[2K   \u001b[90m━━━━━━━━━━━━━━━━━━━━━━━━━━━━━━━━━━━━━━━━\u001b[0m \u001b[32m72.0/72.0 kB\u001b[0m \u001b[31m2.6 MB/s\u001b[0m eta \u001b[36m0:00:00\u001b[0m\n",
            "\u001b[?25hDownloading tomlkit-0.13.2-py3-none-any.whl (37 kB)\n",
            "Downloading uvicorn-0.34.0-py3-none-any.whl (62 kB)\n",
            "\u001b[2K   \u001b[90m━━━━━━━━━━━━━━━━━━━━━━━━━━━━━━━━━━━━━━━━\u001b[0m \u001b[32m62.3/62.3 kB\u001b[0m \u001b[31m2.0 MB/s\u001b[0m eta \u001b[36m0:00:00\u001b[0m\n",
            "\u001b[?25hDownloading ffmpy-0.5.0-py3-none-any.whl (6.0 kB)\n",
            "Downloading pydub-0.25.1-py2.py3-none-any.whl (32 kB)\n",
            "Installing collected packages: pydub, uvicorn, tomlkit, semantic-version, ruff, python-multipart, markupsafe, groovy, ffmpy, aiofiles, starlette, safehttpx, gradio-client, fastapi, gradio\n",
            "  Attempting uninstall: markupsafe\n",
            "    Found existing installation: MarkupSafe 3.0.2\n",
            "    Uninstalling MarkupSafe-3.0.2:\n",
            "      Successfully uninstalled MarkupSafe-3.0.2\n",
            "\u001b[31mERROR: pip's dependency resolver does not currently take into account all the packages that are installed. This behaviour is the source of the following dependency conflicts.\n",
            "torch 2.5.1+cu124 requires nvidia-cublas-cu12==12.4.5.8; platform_system == \"Linux\" and platform_machine == \"x86_64\", but you have nvidia-cublas-cu12 12.5.3.2 which is incompatible.\n",
            "torch 2.5.1+cu124 requires nvidia-cuda-cupti-cu12==12.4.127; platform_system == \"Linux\" and platform_machine == \"x86_64\", but you have nvidia-cuda-cupti-cu12 12.5.82 which is incompatible.\n",
            "torch 2.5.1+cu124 requires nvidia-cuda-nvrtc-cu12==12.4.127; platform_system == \"Linux\" and platform_machine == \"x86_64\", but you have nvidia-cuda-nvrtc-cu12 12.5.82 which is incompatible.\n",
            "torch 2.5.1+cu124 requires nvidia-cuda-runtime-cu12==12.4.127; platform_system == \"Linux\" and platform_machine == \"x86_64\", but you have nvidia-cuda-runtime-cu12 12.5.82 which is incompatible.\n",
            "torch 2.5.1+cu124 requires nvidia-cudnn-cu12==9.1.0.70; platform_system == \"Linux\" and platform_machine == \"x86_64\", but you have nvidia-cudnn-cu12 9.3.0.75 which is incompatible.\n",
            "torch 2.5.1+cu124 requires nvidia-cufft-cu12==11.2.1.3; platform_system == \"Linux\" and platform_machine == \"x86_64\", but you have nvidia-cufft-cu12 11.2.3.61 which is incompatible.\n",
            "torch 2.5.1+cu124 requires nvidia-curand-cu12==10.3.5.147; platform_system == \"Linux\" and platform_machine == \"x86_64\", but you have nvidia-curand-cu12 10.3.6.82 which is incompatible.\n",
            "torch 2.5.1+cu124 requires nvidia-cusolver-cu12==11.6.1.9; platform_system == \"Linux\" and platform_machine == \"x86_64\", but you have nvidia-cusolver-cu12 11.6.3.83 which is incompatible.\n",
            "torch 2.5.1+cu124 requires nvidia-cusparse-cu12==12.3.1.170; platform_system == \"Linux\" and platform_machine == \"x86_64\", but you have nvidia-cusparse-cu12 12.5.1.3 which is incompatible.\n",
            "torch 2.5.1+cu124 requires nvidia-nvjitlink-cu12==12.4.127; platform_system == \"Linux\" and platform_machine == \"x86_64\", but you have nvidia-nvjitlink-cu12 12.5.82 which is incompatible.\u001b[0m\u001b[31m\n",
            "\u001b[0mSuccessfully installed aiofiles-23.2.1 fastapi-0.115.11 ffmpy-0.5.0 gradio-5.20.1 gradio-client-1.7.2 groovy-0.1.2 markupsafe-2.1.5 pydub-0.25.1 python-multipart-0.0.20 ruff-0.9.10 safehttpx-0.1.6 semantic-version-2.10.0 starlette-0.46.1 tomlkit-0.13.2 uvicorn-0.34.0\n"
          ]
        }
      ],
      "source": [
        "!pip install gradio"
      ]
    },
    {
      "cell_type": "code",
      "execution_count": 2,
      "metadata": {
        "id": "Exnr97SX3Oyf"
      },
      "outputs": [],
      "source": [
        "%matplotlib inline\n",
        "\n",
        "# 標準數據分析、畫圖套件\n",
        "import numpy as np\n",
        "import matplotlib.pyplot as plt\n",
        "from PIL import Image\n",
        "\n",
        "# 神經網路方面\n",
        "import tensorflow as tf\n",
        "from tensorflow.keras.datasets import mnist\n",
        "from tensorflow.keras.utils import to_categorical\n",
        "from tensorflow.keras.models import Sequential\n",
        "from tensorflow.keras.layers import Dense\n",
        "from tensorflow.keras.optimizers import SGD\n",
        "\n",
        "# 互動設計用\n",
        "from ipywidgets import interact_manual\n",
        "\n",
        "# 神速打造web app的Gradio\n",
        "import gradio as gr"
      ]
    },
    {
      "cell_type": "markdown",
      "metadata": {
        "id": "iaxCixMn3JIr"
      },
      "source": [
        "# 讀入MNIST數據庫"
      ]
    },
    {
      "cell_type": "code",
      "execution_count": 3,
      "metadata": {
        "colab": {
          "base_uri": "https://localhost:8080/"
        },
        "id": "fMKX6Bvo31cC",
        "outputId": "32a6815b-6dd9-41f6-83ca-565e430cea55"
      },
      "outputs": [
        {
          "output_type": "stream",
          "name": "stdout",
          "text": [
            "Downloading data from https://storage.googleapis.com/tensorflow/tf-keras-datasets/mnist.npz\n",
            "\u001b[1m11490434/11490434\u001b[0m \u001b[32m━━━━━━━━━━━━━━━━━━━━\u001b[0m\u001b[37m\u001b[0m \u001b[1m0s\u001b[0m 0us/step\n",
            "訓練資料共 60000 筆\n",
            "測試資料共 10000 筆\n"
          ]
        }
      ],
      "source": [
        "(x_train, y_train), (x_test, y_test) = mnist.load_data()\n",
        "print(f'訓練資料共 {len(x_train)} 筆')\n",
        "print(f'測試資料共 {len(x_test)} 筆')"
      ]
    },
    {
      "cell_type": "code",
      "execution_count": 4,
      "metadata": {
        "colab": {
          "base_uri": "https://localhost:8080/"
        },
        "id": "6qbGB0W67ptp",
        "outputId": "fe420db2-909e-4e68-f45f-8f35a44717e0"
      },
      "outputs": [
        {
          "output_type": "execute_result",
          "data": {
            "text/plain": [
              "(60000, 28, 28)"
            ]
          },
          "metadata": {},
          "execution_count": 4
        }
      ],
      "source": [
        "x_train.shape"
      ]
    },
    {
      "cell_type": "code",
      "execution_count": 5,
      "metadata": {
        "colab": {
          "base_uri": "https://localhost:8080/"
        },
        "id": "NRvsGVvs7yP6",
        "outputId": "4b29b358-7c28-41a7-f534-a94a2a79da67"
      },
      "outputs": [
        {
          "output_type": "execute_result",
          "data": {
            "text/plain": [
              "(10000, 28, 28)"
            ]
          },
          "metadata": {},
          "execution_count": 5
        }
      ],
      "source": [
        "x_test.shape"
      ]
    },
    {
      "cell_type": "code",
      "execution_count": 6,
      "metadata": {
        "colab": {
          "base_uri": "https://localhost:8080/",
          "height": 68
        },
        "id": "EC4KuTdgFSt9",
        "outputId": "802efbf4-f961-42ff-a71a-6582f82267fa"
      },
      "outputs": [
        {
          "output_type": "execute_result",
          "data": {
            "text/plain": [
              "array([[  0,   0,   0,   0,   0,   0,   0,   0,   0,   0,   0,   0,   0,\n",
              "          0,   0,   0,   0,   0,   0,   0,   0,   0,   0,   0,   0,   0,\n",
              "          0,   0],\n",
              "       [  0,   0,   0,   0,   0,   0,   0,   0,   0,   0,   0,   0,   0,\n",
              "          0,   0,   0,   0,   0,   0,   0,   0,   0,   0,   0,   0,   0,\n",
              "          0,   0],\n",
              "       [  0,   0,   0,   0,   0,   0,   0,   0,   0,   0,   0,   0,   0,\n",
              "          0,   0,   0,   0,   0,   0,   0,   0,   0,   0,   0,   0,   0,\n",
              "          0,   0],\n",
              "       [  0,   0,   0,   0,   0,   0,   0,   0,   0,   0,   0,   0, 149,\n",
              "        255, 129,  37,   0,   0,   0,   0,   0,   0,   0,   0,   0,   0,\n",
              "          0,   0],\n",
              "       [  0,   0,   0,   0,   0,   0,   0,   0,   0,   0,   0,   0, 149,\n",
              "        253, 252, 215,  60,   7,   0,   0,   0,   0,   0,   0,   0,   0,\n",
              "          0,   0],\n",
              "       [  0,   0,   0,   0,   0,   0,   0,   0,   0,   0,   0,   0,  53,\n",
              "        150, 249, 252, 252,  38,   0,   0,   0,   0,   0,   0,   0,   0,\n",
              "          0,   0],\n",
              "       [  0,   0,   0,   0,   0,   0,   0,   0,   0,   0,   0,   0,   0,\n",
              "          0, 138, 252, 252, 177,   0,   0,   0,   0,   0,   0,   0,   0,\n",
              "          0,   0],\n",
              "       [  0,   0,   0,   0,   0,   0,   0,   0,   0,   0,   0,   0,   0,\n",
              "          0,   7, 129, 252, 243,  65,   0,   0,   0,   0,   0,   0,   0,\n",
              "          0,   0],\n",
              "       [  0,   0,   0,   0,   0,   0,   0,   0,   0,   0,   0,   0,   0,\n",
              "          0,   0,  33, 252, 252,  74,   0,   0,   0,   0,   0,   0,   0,\n",
              "          0,   0],\n",
              "       [  0,   0,   0,   0,   0,   0,   0,   0,   0,   0,   0,   0,   0,\n",
              "          0, 112, 210, 252, 212,  35,   0,   0,   0,   0,   0,   0,   0,\n",
              "          0,   0],\n",
              "       [  0,   0,   0,   0,   0,   0,   0,   0,   0,   0,   0,  69, 177,\n",
              "        240, 249, 252, 252, 177,   0,   0,   0,   0,   0,   0,   0,   0,\n",
              "          0,   0],\n",
              "       [  0,   0,   0,   0,   0,   0,   0,   0,   0,   0,   0, 193, 252,\n",
              "        253, 252, 240,  59,  41,   0,   0,   0,   0,   0,   0,   0,   0,\n",
              "          0,   0],\n",
              "       [  0,   0,   0,   0,   0,   0,   0,   0,   0,   0,   0, 193, 252,\n",
              "        253, 252, 245,  79,   0,   0,   0,   0,   0,   0,   0,   0,   0,\n",
              "          0,   0],\n",
              "       [  0,   0,   0,   0,   0,   0,   0,   0,   0,   0,   0,   0,   0,\n",
              "        149, 173, 253, 253, 178,   0,   0,   0,   0,   0,   0,   0,   0,\n",
              "          0,   0],\n",
              "       [  0,   0,   0,   0,   0,   0,   0,   0,   0,   0,   0,   0,   0,\n",
              "          0,  11, 179, 252, 195,  18,   0,   0,   0,   0,   0,   0,   0,\n",
              "          0,   0],\n",
              "       [  0,   0,   0,   0,   0,   0,   0,   0,   0,   0,   0,   0,   0,\n",
              "          0,   0,  67, 252, 252,  74,   0,   0,   0,   0,   0,   0,   0,\n",
              "          0,   0],\n",
              "       [  0,   0,   0,   0,   0,   0,   0,   0,   0,   0,   0,   0,   0,\n",
              "          0,   0,  15, 252, 252,  74,   0,   0,   0,   0,   0,   0,   0,\n",
              "          0,   0],\n",
              "       [  0,   0,   0,   0,   0,   0,   0,   0,   9, 153,  12,   0,   0,\n",
              "          0,   0,  60, 252, 252,  74,   0,   0,   0,   0,   0,   0,   0,\n",
              "          0,   0],\n",
              "       [  0,   0,   0,   0,   0,   0,   0,   9, 144, 252, 129,   7,   0,\n",
              "          0,   0, 164, 252, 199,  22,   0,   0,   0,   0,   0,   0,   0,\n",
              "          0,   0],\n",
              "       [  0,   0,   0,   0,   0,   0,   0,  75, 252, 252, 252,  59,   0,\n",
              "        134, 134, 210, 252,  99,   0,   0,   0,   0,   0,   0,   0,   0,\n",
              "          0,   0],\n",
              "       [  0,   0,   0,   0,   0,   0,   0,   4,  32, 210, 252, 241, 238,\n",
              "        253, 252, 252, 252,  29,   0,   0,   0,   0,   0,   0,   0,   0,\n",
              "          0,   0],\n",
              "       [  0,   0,   0,   0,   0,   0,   0,   0,   0,  31, 112, 241, 252,\n",
              "        253, 252, 222, 136,   7,   0,   0,   0,   0,   0,   0,   0,   0,\n",
              "          0,   0],\n",
              "       [  0,   0,   0,   0,   0,   0,   0,   0,   0,   0,   0, 106, 252,\n",
              "        253, 216,  36,   0,   0,   0,   0,   0,   0,   0,   0,   0,   0,\n",
              "          0,   0],\n",
              "       [  0,   0,   0,   0,   0,   0,   0,   0,   0,   0,   0,   0,   0,\n",
              "          0,   0,   0,   0,   0,   0,   0,   0,   0,   0,   0,   0,   0,\n",
              "          0,   0],\n",
              "       [  0,   0,   0,   0,   0,   0,   0,   0,   0,   0,   0,   0,   0,\n",
              "          0,   0,   0,   0,   0,   0,   0,   0,   0,   0,   0,   0,   0,\n",
              "          0,   0],\n",
              "       [  0,   0,   0,   0,   0,   0,   0,   0,   0,   0,   0,   0,   0,\n",
              "          0,   0,   0,   0,   0,   0,   0,   0,   0,   0,   0,   0,   0,\n",
              "          0,   0],\n",
              "       [  0,   0,   0,   0,   0,   0,   0,   0,   0,   0,   0,   0,   0,\n",
              "          0,   0,   0,   0,   0,   0,   0,   0,   0,   0,   0,   0,   0,\n",
              "          0,   0],\n",
              "       [  0,   0,   0,   0,   0,   0,   0,   0,   0,   0,   0,   0,   0,\n",
              "          0,   0,   0,   0,   0,   0,   0,   0,   0,   0,   0,   0,   0,\n",
              "          0,   0]], dtype=uint8)"
            ],
            "text/html": [
              "<style>\n",
              "      .ndarray_repr .ndarray_raw_data {\n",
              "        display: none;\n",
              "      }\n",
              "      .ndarray_repr.show_array .ndarray_raw_data {\n",
              "        display: block;\n",
              "      }\n",
              "      .ndarray_repr.show_array .ndarray_image_preview {\n",
              "        display: none;\n",
              "      }\n",
              "      </style>\n",
              "      <div id=\"id-019e3166-b039-4e53-b939-5103b3be155c\" class=\"ndarray_repr\"><pre>ndarray (28, 28) <button style=\"padding: 0 2px;\">show data</button></pre><img src=\"data:image/png;base64,iVBORw0KGgoAAAANSUhEUgAAABwAAAAcCAAAAABXZoBIAAAAu0lEQVR4nGNgoD2Y+r9RFbfk3z/XbdhxSJpO+/nnjxpOvV1//mzEKcne+OezI05ZxT9/vHDJFVz6c0UZq4zrxg8/cdp58M/fPx+sNRECTGgKWEWu47Jy6tq/fzfhdCz35j+HhXDKOiN7Bd3OM8gcuCTnTB4GBgYGXWzGcU7408jOwMCw5M9xMQxJ7z9//lgztLVd+pOMqZNF4dKfj+/+/vnzRxabwfIFH//8/XOvA0dkZ/35e0MFu9QgAQBpLEfqYW5v5QAAAABJRU5ErkJggg==\" class=\"ndarray_image_preview\" /><pre class=\"ndarray_raw_data\">array([[  0,   0,   0,   0,   0,   0,   0,   0,   0,   0,   0,   0,   0,\n",
              "          0,   0,   0,   0,   0,   0,   0,   0,   0,   0,   0,   0,   0,\n",
              "          0,   0],\n",
              "       [  0,   0,   0,   0,   0,   0,   0,   0,   0,   0,   0,   0,   0,\n",
              "          0,   0,   0,   0,   0,   0,   0,   0,   0,   0,   0,   0,   0,\n",
              "          0,   0],\n",
              "       [  0,   0,   0,   0,   0,   0,   0,   0,   0,   0,   0,   0,   0,\n",
              "          0,   0,   0,   0,   0,   0,   0,   0,   0,   0,   0,   0,   0,\n",
              "          0,   0],\n",
              "       [  0,   0,   0,   0,   0,   0,   0,   0,   0,   0,   0,   0, 149,\n",
              "        255, 129,  37,   0,   0,   0,   0,   0,   0,   0,   0,   0,   0,\n",
              "          0,   0],\n",
              "       [  0,   0,   0,   0,   0,   0,   0,   0,   0,   0,   0,   0, 149,\n",
              "        253, 252, 215,  60,   7,   0,   0,   0,   0,   0,   0,   0,   0,\n",
              "          0,   0],\n",
              "       [  0,   0,   0,   0,   0,   0,   0,   0,   0,   0,   0,   0,  53,\n",
              "        150, 249, 252, 252,  38,   0,   0,   0,   0,   0,   0,   0,   0,\n",
              "          0,   0],\n",
              "       [  0,   0,   0,   0,   0,   0,   0,   0,   0,   0,   0,   0,   0,\n",
              "          0, 138, 252, 252, 177,   0,   0,   0,   0,   0,   0,   0,   0,\n",
              "          0,   0],\n",
              "       [  0,   0,   0,   0,   0,   0,   0,   0,   0,   0,   0,   0,   0,\n",
              "          0,   7, 129, 252, 243,  65,   0,   0,   0,   0,   0,   0,   0,\n",
              "          0,   0],\n",
              "       [  0,   0,   0,   0,   0,   0,   0,   0,   0,   0,   0,   0,   0,\n",
              "          0,   0,  33, 252, 252,  74,   0,   0,   0,   0,   0,   0,   0,\n",
              "          0,   0],\n",
              "       [  0,   0,   0,   0,   0,   0,   0,   0,   0,   0,   0,   0,   0,\n",
              "          0, 112, 210, 252, 212,  35,   0,   0,   0,   0,   0,   0,   0,\n",
              "          0,   0],\n",
              "       [  0,   0,   0,   0,   0,   0,   0,   0,   0,   0,   0,  69, 177,\n",
              "        240, 249, 252, 252, 177,   0,   0,   0,   0,   0,   0,   0,   0,\n",
              "          0,   0],\n",
              "       [  0,   0,   0,   0,   0,   0,   0,   0,   0,   0,   0, 193, 252,\n",
              "        253, 252, 240,  59,  41,   0,   0,   0,   0,   0,   0,   0,   0,\n",
              "          0,   0],\n",
              "       [  0,   0,   0,   0,   0,   0,   0,   0,   0,   0,   0, 193, 252,\n",
              "        253, 252, 245,  79,   0,   0,   0,   0,   0,   0,   0,   0,   0,\n",
              "          0,   0],\n",
              "       [  0,   0,   0,   0,   0,   0,   0,   0,   0,   0,   0,   0,   0,\n",
              "        149, 173, 253, 253, 178,   0,   0,   0,   0,   0,   0,   0,   0,\n",
              "          0,   0],\n",
              "       [  0,   0,   0,   0,   0,   0,   0,   0,   0,   0,   0,   0,   0,\n",
              "          0,  11, 179, 252, 195,  18,   0,   0,   0,   0,   0,   0,   0,\n",
              "          0,   0],\n",
              "       [  0,   0,   0,   0,   0,   0,   0,   0,   0,   0,   0,   0,   0,\n",
              "          0,   0,  67, 252, 252,  74,   0,   0,   0,   0,   0,   0,   0,\n",
              "          0,   0],\n",
              "       [  0,   0,   0,   0,   0,   0,   0,   0,   0,   0,   0,   0,   0,\n",
              "          0,   0,  15, 252, 252,  74,   0,   0,   0,   0,   0,   0,   0,\n",
              "          0,   0],\n",
              "       [  0,   0,   0,   0,   0,   0,   0,   0,   9, 153,  12,   0,   0,\n",
              "          0,   0,  60, 252, 252,  74,   0,   0,   0,   0,   0,   0,   0,\n",
              "          0,   0],\n",
              "       [  0,   0,   0,   0,   0,   0,   0,   9, 144, 252, 129,   7,   0,\n",
              "          0,   0, 164, 252, 199,  22,   0,   0,   0,   0,   0,   0,   0,\n",
              "          0,   0],\n",
              "       [  0,   0,   0,   0,   0,   0,   0,  75, 252, 252, 252,  59,   0,\n",
              "        134, 134, 210, 252,  99,   0,   0,   0,   0,   0,   0,   0,   0,\n",
              "          0,   0],\n",
              "       [  0,   0,   0,   0,   0,   0,   0,   4,  32, 210, 252, 241, 238,\n",
              "        253, 252, 252, 252,  29,   0,   0,   0,   0,   0,   0,   0,   0,\n",
              "          0,   0],\n",
              "       [  0,   0,   0,   0,   0,   0,   0,   0,   0,  31, 112, 241, 252,\n",
              "        253, 252, 222, 136,   7,   0,   0,   0,   0,   0,   0,   0,   0,\n",
              "          0,   0],\n",
              "       [  0,   0,   0,   0,   0,   0,   0,   0,   0,   0,   0, 106, 252,\n",
              "        253, 216,  36,   0,   0,   0,   0,   0,   0,   0,   0,   0,   0,\n",
              "          0,   0],\n",
              "       [  0,   0,   0,   0,   0,   0,   0,   0,   0,   0,   0,   0,   0,\n",
              "          0,   0,   0,   0,   0,   0,   0,   0,   0,   0,   0,   0,   0,\n",
              "          0,   0],\n",
              "       [  0,   0,   0,   0,   0,   0,   0,   0,   0,   0,   0,   0,   0,\n",
              "          0,   0,   0,   0,   0,   0,   0,   0,   0,   0,   0,   0,   0,\n",
              "          0,   0],\n",
              "       [  0,   0,   0,   0,   0,   0,   0,   0,   0,   0,   0,   0,   0,\n",
              "          0,   0,   0,   0,   0,   0,   0,   0,   0,   0,   0,   0,   0,\n",
              "          0,   0],\n",
              "       [  0,   0,   0,   0,   0,   0,   0,   0,   0,   0,   0,   0,   0,\n",
              "          0,   0,   0,   0,   0,   0,   0,   0,   0,   0,   0,   0,   0,\n",
              "          0,   0],\n",
              "       [  0,   0,   0,   0,   0,   0,   0,   0,   0,   0,   0,   0,   0,\n",
              "          0,   0,   0,   0,   0,   0,   0,   0,   0,   0,   0,   0,   0,\n",
              "          0,   0]], dtype=uint8)</pre></div><script>\n",
              "      (() => {\n",
              "      const titles = ['show data', 'hide data'];\n",
              "      let index = 0\n",
              "      document.querySelector('#id-019e3166-b039-4e53-b939-5103b3be155c button').onclick = (e) => {\n",
              "        document.querySelector('#id-019e3166-b039-4e53-b939-5103b3be155c').classList.toggle('show_array');\n",
              "        index = (++index) % 2;\n",
              "        document.querySelector('#id-019e3166-b039-4e53-b939-5103b3be155c button').textContent = titles[index];\n",
              "        e.preventDefault();\n",
              "        e.stopPropagation();\n",
              "      }\n",
              "      })();\n",
              "    </script>"
            ]
          },
          "metadata": {},
          "execution_count": 6
        }
      ],
      "source": [
        "x_train[1234] # 訓練資料的樣貌"
      ]
    },
    {
      "cell_type": "code",
      "execution_count": 7,
      "metadata": {
        "colab": {
          "base_uri": "https://localhost:8080/"
        },
        "id": "1U0yvS3MFX2D",
        "outputId": "39a89487-ac42-4f8a-8318-6a7f4803546a"
      },
      "outputs": [
        {
          "output_type": "execute_result",
          "data": {
            "text/plain": [
              "3"
            ]
          },
          "metadata": {},
          "execution_count": 7
        }
      ],
      "source": [
        "y_train[1234] # 訓練資料的答案"
      ]
    },
    {
      "cell_type": "markdown",
      "metadata": {
        "id": "8sSfdDQt4MEj"
      },
      "source": [
        "# 資料前處理\n",
        "輸入格式整理\n",
        "* 將28*28矩陣轉成784長的向量\n",
        "* 將像素值常模化至0-1之間\n"
      ]
    },
    {
      "cell_type": "code",
      "execution_count": 8,
      "metadata": {
        "colab": {
          "base_uri": "https://localhost:8080/"
        },
        "id": "RddoJenp4OvU",
        "outputId": "50738d7d-ed53-4c28-99f8-a4ff7fef4172"
      },
      "outputs": [
        {
          "output_type": "execute_result",
          "data": {
            "text/plain": [
              "(60000, 784)"
            ]
          },
          "metadata": {},
          "execution_count": 8
        }
      ],
      "source": [
        "x_train = x_train.reshape(60000, 784)/255\n",
        "x_test = x_test.reshape(10000, 784)/255\n",
        "x_train.shape"
      ]
    },
    {
      "cell_type": "markdown",
      "metadata": {
        "id": "9MFOVUwHzp6c"
      },
      "source": [
        "輸出格式整理\n",
        "* One Hot Enconding (用0和1表示)\n",
        "* 將數值0-9轉成以長度為10的向量表示\n",
        "* 例如：1 -> [0, 1, 0, 0, 0, 0, 0, 0, 0]"
      ]
    },
    {
      "cell_type": "code",
      "execution_count": 9,
      "metadata": {
        "colab": {
          "base_uri": "https://localhost:8080/"
        },
        "id": "Bd9eFPidziSE",
        "outputId": "c499f5a8-70b2-45c9-e49c-e52468c71306"
      },
      "outputs": [
        {
          "output_type": "stream",
          "name": "stdout",
          "text": [
            "第1235筆數據的答案為[0. 0. 0. 1. 0. 0. 0. 0. 0. 0.]\n"
          ]
        }
      ],
      "source": [
        "y_train = to_categorical(y_train, 10)\n",
        "y_test = to_categorical(y_test, 10)\n",
        "n = 1234\n",
        "print(f'第{n+1}筆數據的答案為{y_train[n]}')"
      ]
    },
    {
      "cell_type": "markdown",
      "metadata": {
        "id": "4LpkTaDpGio1"
      },
      "source": [
        "# 建構神經網路"
      ]
    },
    {
      "cell_type": "code",
      "execution_count": 10,
      "metadata": {
        "colab": {
          "base_uri": "https://localhost:8080/",
          "height": 354
        },
        "id": "FkAIPn7KHHMt",
        "outputId": "45959b40-1f51-4b26-8fa8-cd5c2ccc713f"
      },
      "outputs": [
        {
          "output_type": "stream",
          "name": "stderr",
          "text": [
            "/usr/local/lib/python3.11/dist-packages/keras/src/layers/core/dense.py:87: UserWarning: Do not pass an `input_shape`/`input_dim` argument to a layer. When using Sequential models, prefer using an `Input(shape)` object as the first layer in the model instead.\n",
            "  super().__init__(activity_regularizer=activity_regularizer, **kwargs)\n"
          ]
        },
        {
          "output_type": "display_data",
          "data": {
            "text/plain": [
              "\u001b[1mModel: \"sequential\"\u001b[0m\n"
            ],
            "text/html": [
              "<pre style=\"white-space:pre;overflow-x:auto;line-height:normal;font-family:Menlo,'DejaVu Sans Mono',consolas,'Courier New',monospace\"><span style=\"font-weight: bold\">Model: \"sequential\"</span>\n",
              "</pre>\n"
            ]
          },
          "metadata": {}
        },
        {
          "output_type": "display_data",
          "data": {
            "text/plain": [
              "┏━━━━━━━━━━━━━━━━━━━━━━━━━━━━━━━━━━━━━━┳━━━━━━━━━━━━━━━━━━━━━━━━━━━━━┳━━━━━━━━━━━━━━━━━┓\n",
              "┃\u001b[1m \u001b[0m\u001b[1mLayer (type)                        \u001b[0m\u001b[1m \u001b[0m┃\u001b[1m \u001b[0m\u001b[1mOutput Shape               \u001b[0m\u001b[1m \u001b[0m┃\u001b[1m \u001b[0m\u001b[1m        Param #\u001b[0m\u001b[1m \u001b[0m┃\n",
              "┡━━━━━━━━━━━━━━━━━━━━━━━━━━━━━━━━━━━━━━╇━━━━━━━━━━━━━━━━━━━━━━━━━━━━━╇━━━━━━━━━━━━━━━━━┩\n",
              "│ dense (\u001b[38;5;33mDense\u001b[0m)                        │ (\u001b[38;5;45mNone\u001b[0m, \u001b[38;5;34m20\u001b[0m)                  │          \u001b[38;5;34m15,700\u001b[0m │\n",
              "├──────────────────────────────────────┼─────────────────────────────┼─────────────────┤\n",
              "│ dense_1 (\u001b[38;5;33mDense\u001b[0m)                      │ (\u001b[38;5;45mNone\u001b[0m, \u001b[38;5;34m25\u001b[0m)                  │             \u001b[38;5;34m525\u001b[0m │\n",
              "├──────────────────────────────────────┼─────────────────────────────┼─────────────────┤\n",
              "│ dense_2 (\u001b[38;5;33mDense\u001b[0m)                      │ (\u001b[38;5;45mNone\u001b[0m, \u001b[38;5;34m30\u001b[0m)                  │             \u001b[38;5;34m780\u001b[0m │\n",
              "├──────────────────────────────────────┼─────────────────────────────┼─────────────────┤\n",
              "│ dense_3 (\u001b[38;5;33mDense\u001b[0m)                      │ (\u001b[38;5;45mNone\u001b[0m, \u001b[38;5;34m15\u001b[0m)                  │             \u001b[38;5;34m465\u001b[0m │\n",
              "├──────────────────────────────────────┼─────────────────────────────┼─────────────────┤\n",
              "│ dense_4 (\u001b[38;5;33mDense\u001b[0m)                      │ (\u001b[38;5;45mNone\u001b[0m, \u001b[38;5;34m10\u001b[0m)                  │             \u001b[38;5;34m160\u001b[0m │\n",
              "└──────────────────────────────────────┴─────────────────────────────┴─────────────────┘\n"
            ],
            "text/html": [
              "<pre style=\"white-space:pre;overflow-x:auto;line-height:normal;font-family:Menlo,'DejaVu Sans Mono',consolas,'Courier New',monospace\">┏━━━━━━━━━━━━━━━━━━━━━━━━━━━━━━━━━━━━━━┳━━━━━━━━━━━━━━━━━━━━━━━━━━━━━┳━━━━━━━━━━━━━━━━━┓\n",
              "┃<span style=\"font-weight: bold\"> Layer (type)                         </span>┃<span style=\"font-weight: bold\"> Output Shape                </span>┃<span style=\"font-weight: bold\">         Param # </span>┃\n",
              "┡━━━━━━━━━━━━━━━━━━━━━━━━━━━━━━━━━━━━━━╇━━━━━━━━━━━━━━━━━━━━━━━━━━━━━╇━━━━━━━━━━━━━━━━━┩\n",
              "│ dense (<span style=\"color: #0087ff; text-decoration-color: #0087ff\">Dense</span>)                        │ (<span style=\"color: #00d7ff; text-decoration-color: #00d7ff\">None</span>, <span style=\"color: #00af00; text-decoration-color: #00af00\">20</span>)                  │          <span style=\"color: #00af00; text-decoration-color: #00af00\">15,700</span> │\n",
              "├──────────────────────────────────────┼─────────────────────────────┼─────────────────┤\n",
              "│ dense_1 (<span style=\"color: #0087ff; text-decoration-color: #0087ff\">Dense</span>)                      │ (<span style=\"color: #00d7ff; text-decoration-color: #00d7ff\">None</span>, <span style=\"color: #00af00; text-decoration-color: #00af00\">25</span>)                  │             <span style=\"color: #00af00; text-decoration-color: #00af00\">525</span> │\n",
              "├──────────────────────────────────────┼─────────────────────────────┼─────────────────┤\n",
              "│ dense_2 (<span style=\"color: #0087ff; text-decoration-color: #0087ff\">Dense</span>)                      │ (<span style=\"color: #00d7ff; text-decoration-color: #00d7ff\">None</span>, <span style=\"color: #00af00; text-decoration-color: #00af00\">30</span>)                  │             <span style=\"color: #00af00; text-decoration-color: #00af00\">780</span> │\n",
              "├──────────────────────────────────────┼─────────────────────────────┼─────────────────┤\n",
              "│ dense_3 (<span style=\"color: #0087ff; text-decoration-color: #0087ff\">Dense</span>)                      │ (<span style=\"color: #00d7ff; text-decoration-color: #00d7ff\">None</span>, <span style=\"color: #00af00; text-decoration-color: #00af00\">15</span>)                  │             <span style=\"color: #00af00; text-decoration-color: #00af00\">465</span> │\n",
              "├──────────────────────────────────────┼─────────────────────────────┼─────────────────┤\n",
              "│ dense_4 (<span style=\"color: #0087ff; text-decoration-color: #0087ff\">Dense</span>)                      │ (<span style=\"color: #00d7ff; text-decoration-color: #00d7ff\">None</span>, <span style=\"color: #00af00; text-decoration-color: #00af00\">10</span>)                  │             <span style=\"color: #00af00; text-decoration-color: #00af00\">160</span> │\n",
              "└──────────────────────────────────────┴─────────────────────────────┴─────────────────┘\n",
              "</pre>\n"
            ]
          },
          "metadata": {}
        },
        {
          "output_type": "display_data",
          "data": {
            "text/plain": [
              "\u001b[1m Total params: \u001b[0m\u001b[38;5;34m17,630\u001b[0m (68.87 KB)\n"
            ],
            "text/html": [
              "<pre style=\"white-space:pre;overflow-x:auto;line-height:normal;font-family:Menlo,'DejaVu Sans Mono',consolas,'Courier New',monospace\"><span style=\"font-weight: bold\"> Total params: </span><span style=\"color: #00af00; text-decoration-color: #00af00\">17,630</span> (68.87 KB)\n",
              "</pre>\n"
            ]
          },
          "metadata": {}
        },
        {
          "output_type": "display_data",
          "data": {
            "text/plain": [
              "\u001b[1m Trainable params: \u001b[0m\u001b[38;5;34m17,630\u001b[0m (68.87 KB)\n"
            ],
            "text/html": [
              "<pre style=\"white-space:pre;overflow-x:auto;line-height:normal;font-family:Menlo,'DejaVu Sans Mono',consolas,'Courier New',monospace\"><span style=\"font-weight: bold\"> Trainable params: </span><span style=\"color: #00af00; text-decoration-color: #00af00\">17,630</span> (68.87 KB)\n",
              "</pre>\n"
            ]
          },
          "metadata": {}
        },
        {
          "output_type": "display_data",
          "data": {
            "text/plain": [
              "\u001b[1m Non-trainable params: \u001b[0m\u001b[38;5;34m0\u001b[0m (0.00 B)\n"
            ],
            "text/html": [
              "<pre style=\"white-space:pre;overflow-x:auto;line-height:normal;font-family:Menlo,'DejaVu Sans Mono',consolas,'Courier New',monospace\"><span style=\"font-weight: bold\"> Non-trainable params: </span><span style=\"color: #00af00; text-decoration-color: #00af00\">0</span> (0.00 B)\n",
              "</pre>\n"
            ]
          },
          "metadata": {}
        }
      ],
      "source": [
        "# 設定隱藏層神經元數量\n",
        "N1 = 20\n",
        "N2 = 25\n",
        "N3 = 30\n",
        "N4 = 15\n",
        "\n",
        "# 建構一個空的標準神經網路\n",
        "model = Sequential()\n",
        "\n",
        "# 隱藏層(4層DNN，使用ReLU作為激發函數)\n",
        "model.add(Dense(N1, input_dim=784, activation='relu')) # 輸入有784個特徵\n",
        "model.add(Dense(N2, activation='relu'))\n",
        "model.add(Dense(N3, activation='relu'))\n",
        "model.add(Dense(N4, activation='relu'))\n",
        "\n",
        "# 輸出層(10個神經元，以softmax當激發函數)\n",
        "model.add(Dense(10, activation='softmax'))\n",
        "\n",
        "# 組裝(loss function用均方差(MSE), optimizer用隨機的Gradient descent(SGD)來訓練)\n",
        "model.compile(loss='mse', optimizer=SGD(learning_rate=0.087), metrics=['accuracy'])\n",
        "\n",
        "# 檢視神經網路的架構\n",
        "model.summary()"
      ]
    },
    {
      "cell_type": "markdown",
      "metadata": {
        "id": "ylChzyw7hkhB"
      },
      "source": [
        "# 訓練神經網路\n",
        "* 一次訓練 `batch_size = 50` 筆資料\n",
        "* 所有資料一共要訓練 `epochs = 20` 次"
      ]
    },
    {
      "cell_type": "code",
      "execution_count": 11,
      "metadata": {
        "colab": {
          "base_uri": "https://localhost:8080/"
        },
        "id": "Udz8PjLQhm5e",
        "outputId": "1e4ccbbb-477a-4720-cdce-d709ac600406"
      },
      "outputs": [
        {
          "output_type": "stream",
          "name": "stdout",
          "text": [
            "Epoch 1/20\n",
            "\u001b[1m1200/1200\u001b[0m \u001b[32m━━━━━━━━━━━━━━━━━━━━\u001b[0m\u001b[37m\u001b[0m \u001b[1m6s\u001b[0m 3ms/step - accuracy: 0.1371 - loss: 0.0893\n",
            "Epoch 2/20\n",
            "\u001b[1m1200/1200\u001b[0m \u001b[32m━━━━━━━━━━━━━━━━━━━━\u001b[0m\u001b[37m\u001b[0m \u001b[1m5s\u001b[0m 3ms/step - accuracy: 0.3109 - loss: 0.0798\n",
            "Epoch 3/20\n",
            "\u001b[1m1200/1200\u001b[0m \u001b[32m━━━━━━━━━━━━━━━━━━━━\u001b[0m\u001b[37m\u001b[0m \u001b[1m6s\u001b[0m 4ms/step - accuracy: 0.5371 - loss: 0.0593\n",
            "Epoch 4/20\n",
            "\u001b[1m1200/1200\u001b[0m \u001b[32m━━━━━━━━━━━━━━━━━━━━\u001b[0m\u001b[37m\u001b[0m \u001b[1m3s\u001b[0m 2ms/step - accuracy: 0.7169 - loss: 0.0399\n",
            "Epoch 5/20\n",
            "\u001b[1m1200/1200\u001b[0m \u001b[32m━━━━━━━━━━━━━━━━━━━━\u001b[0m\u001b[37m\u001b[0m \u001b[1m3s\u001b[0m 2ms/step - accuracy: 0.8146 - loss: 0.0283\n",
            "Epoch 6/20\n",
            "\u001b[1m1200/1200\u001b[0m \u001b[32m━━━━━━━━━━━━━━━━━━━━\u001b[0m\u001b[37m\u001b[0m \u001b[1m6s\u001b[0m 3ms/step - accuracy: 0.8553 - loss: 0.0222\n",
            "Epoch 7/20\n",
            "\u001b[1m1200/1200\u001b[0m \u001b[32m━━━━━━━━━━━━━━━━━━━━\u001b[0m\u001b[37m\u001b[0m \u001b[1m3s\u001b[0m 3ms/step - accuracy: 0.8799 - loss: 0.0186\n",
            "Epoch 8/20\n",
            "\u001b[1m1200/1200\u001b[0m \u001b[32m━━━━━━━━━━━━━━━━━━━━\u001b[0m\u001b[37m\u001b[0m \u001b[1m5s\u001b[0m 2ms/step - accuracy: 0.8942 - loss: 0.0165\n",
            "Epoch 9/20\n",
            "\u001b[1m1200/1200\u001b[0m \u001b[32m━━━━━━━━━━━━━━━━━━━━\u001b[0m\u001b[37m\u001b[0m \u001b[1m7s\u001b[0m 3ms/step - accuracy: 0.9007 - loss: 0.0152\n",
            "Epoch 10/20\n",
            "\u001b[1m1200/1200\u001b[0m \u001b[32m━━━━━━━━━━━━━━━━━━━━\u001b[0m\u001b[37m\u001b[0m \u001b[1m4s\u001b[0m 3ms/step - accuracy: 0.9077 - loss: 0.0142\n",
            "Epoch 11/20\n",
            "\u001b[1m1200/1200\u001b[0m \u001b[32m━━━━━━━━━━━━━━━━━━━━\u001b[0m\u001b[37m\u001b[0m \u001b[1m5s\u001b[0m 2ms/step - accuracy: 0.9150 - loss: 0.0131\n",
            "Epoch 12/20\n",
            "\u001b[1m1200/1200\u001b[0m \u001b[32m━━━━━━━━━━━━━━━━━━━━\u001b[0m\u001b[37m\u001b[0m \u001b[1m5s\u001b[0m 3ms/step - accuracy: 0.9221 - loss: 0.0120\n",
            "Epoch 13/20\n",
            "\u001b[1m1200/1200\u001b[0m \u001b[32m━━━━━━━━━━━━━━━━━━━━\u001b[0m\u001b[37m\u001b[0m \u001b[1m5s\u001b[0m 2ms/step - accuracy: 0.9273 - loss: 0.0113\n",
            "Epoch 14/20\n",
            "\u001b[1m1200/1200\u001b[0m \u001b[32m━━━━━━━━━━━━━━━━━━━━\u001b[0m\u001b[37m\u001b[0m \u001b[1m7s\u001b[0m 4ms/step - accuracy: 0.9320 - loss: 0.0107\n",
            "Epoch 15/20\n",
            "\u001b[1m1200/1200\u001b[0m \u001b[32m━━━━━━━━━━━━━━━━━━━━\u001b[0m\u001b[37m\u001b[0m \u001b[1m4s\u001b[0m 2ms/step - accuracy: 0.9322 - loss: 0.0106\n",
            "Epoch 16/20\n",
            "\u001b[1m1200/1200\u001b[0m \u001b[32m━━━━━━━━━━━━━━━━━━━━\u001b[0m\u001b[37m\u001b[0m \u001b[1m3s\u001b[0m 2ms/step - accuracy: 0.9354 - loss: 0.0100\n",
            "Epoch 17/20\n",
            "\u001b[1m1200/1200\u001b[0m \u001b[32m━━━━━━━━━━━━━━━━━━━━\u001b[0m\u001b[37m\u001b[0m \u001b[1m6s\u001b[0m 3ms/step - accuracy: 0.9378 - loss: 0.0097\n",
            "Epoch 18/20\n",
            "\u001b[1m1200/1200\u001b[0m \u001b[32m━━━━━━━━━━━━━━━━━━━━\u001b[0m\u001b[37m\u001b[0m \u001b[1m3s\u001b[0m 3ms/step - accuracy: 0.9409 - loss: 0.0095\n",
            "Epoch 19/20\n",
            "\u001b[1m1200/1200\u001b[0m \u001b[32m━━━━━━━━━━━━━━━━━━━━\u001b[0m\u001b[37m\u001b[0m \u001b[1m3s\u001b[0m 2ms/step - accuracy: 0.9432 - loss: 0.0090\n",
            "Epoch 20/20\n",
            "\u001b[1m1200/1200\u001b[0m \u001b[32m━━━━━━━━━━━━━━━━━━━━\u001b[0m\u001b[37m\u001b[0m \u001b[1m6s\u001b[0m 3ms/step - accuracy: 0.9462 - loss: 0.0086\n"
          ]
        },
        {
          "output_type": "execute_result",
          "data": {
            "text/plain": [
              "<keras.src.callbacks.history.History at 0x781684e17850>"
            ]
          },
          "metadata": {},
          "execution_count": 11
        }
      ],
      "source": [
        "model.fit(x_train, y_train, batch_size=50, epochs=20)"
      ]
    },
    {
      "cell_type": "markdown",
      "metadata": {
        "id": "6sbjgRgSnDeT"
      },
      "source": [
        "# 測試神經網路學習成果"
      ]
    },
    {
      "cell_type": "code",
      "execution_count": 12,
      "metadata": {
        "colab": {
          "base_uri": "https://localhost:8080/",
          "height": 529,
          "referenced_widgets": [
            "3b0cf76f96414602b04e2b87f0eaf1e3",
            "13119950fb7a4d0d91b3cded2edd62b2",
            "a2894b13b8dc40dbb1565a74d7c7a42d",
            "ba077ce1f7624cc194e851e772567270",
            "43b085a810994e068403ced2042a7264",
            "71666acc4e8b4dc6b4831eb733d1580b",
            "f97e87b6fd86472ca138af45c09668f4",
            "73b7db2adc454270bc70f9b237fe56f9",
            "f9020a53a1504f34a7015a2d228131dd",
            "1d07134b5d31453798397d11449ef768"
          ]
        },
        "id": "QQsE-o8b6tPo",
        "outputId": "3cffcffb-8e30-440a-8416-34543d8a3ba7"
      },
      "outputs": [
        {
          "output_type": "stream",
          "name": "stdout",
          "text": [
            "\u001b[1m313/313\u001b[0m \u001b[32m━━━━━━━━━━━━━━━━━━━━\u001b[0m\u001b[37m\u001b[0m \u001b[1m1s\u001b[0m 1ms/step\n"
          ]
        },
        {
          "output_type": "display_data",
          "data": {
            "text/plain": [
              "interactive(children=(IntSlider(value=4999, description='測試編號', max=9999), Button(description='Run Interact', …"
            ],
            "application/vnd.jupyter.widget-view+json": {
              "version_major": 2,
              "version_minor": 0,
              "model_id": "3b0cf76f96414602b04e2b87f0eaf1e3"
            }
          },
          "metadata": {}
        }
      ],
      "source": [
        "predict = np.argmax(model.predict(x_test), axis=-1)\n",
        "def test(測試編號):\n",
        "    plt.imshow(x_test[測試編號].reshape(28, 28), cmap='Greys')\n",
        "    answer = np.argmax(y_test[測試編號])\n",
        "    if predict[測試編號] == answer:\n",
        "        result = \"判斷正確V\"\n",
        "    else:\n",
        "        result = \"判斷錯誤X\"\n",
        "    print(f'此筆資料神經網路判斷為{predict[測試編號]}，實際答案為{answer}，{result}')\n",
        "interact_manual(test, 測試編號=(0, 9999));"
      ]
    },
    {
      "cell_type": "code",
      "execution_count": 13,
      "metadata": {
        "colab": {
          "base_uri": "https://localhost:8080/"
        },
        "id": "iuquiD_cnbb5",
        "outputId": "67410d0b-cee3-4974-d1fd-34aa5b4445a4"
      },
      "outputs": [
        {
          "output_type": "stream",
          "name": "stdout",
          "text": [
            "\u001b[1m313/313\u001b[0m \u001b[32m━━━━━━━━━━━━━━━━━━━━\u001b[0m\u001b[37m\u001b[0m \u001b[1m1s\u001b[0m 2ms/step - accuracy: 0.9329 - loss: 0.0105\n",
            "測試資料loss值: 0.009335251525044441 \n",
            "測試資料正確率: 94.03 % \n"
          ]
        }
      ],
      "source": [
        "loss, acc = model.evaluate(x_test, y_test)\n",
        "print(f'測試資料loss值: {loss} ')\n",
        "print(f'測試資料正確率: {acc*100:.2f} % ')"
      ]
    },
    {
      "cell_type": "markdown",
      "metadata": {
        "id": "-IghavIsxR3C"
      },
      "source": [
        "# 用Gradio展示成果"
      ]
    },
    {
      "cell_type": "code",
      "execution_count": 14,
      "metadata": {
        "id": "c--8nxWoxUqP"
      },
      "outputs": [],
      "source": [
        "def resize_image(inp):\n",
        "    # 圖在inp[\"layers\"][0]\n",
        "    image = np.array(inp[\"layers\"][0], dtype=np.float32)\n",
        "    image = image.astype(np.uint8)\n",
        "\n",
        "    # 轉成PIL格式\n",
        "    image_pil = Image.fromarray(image)\n",
        "\n",
        "    # Alpha通道設為白色，再把圖從RGBA轉成RGB\n",
        "    background = Image.new(\"RGB\", image_pil.size, (255, 255, 255))\n",
        "    background.paste(image_pil, mask=image_pil.split()[3]) # 把圖片粘貼到白色背景上，使用透明通道作為遮罩\n",
        "    image_pil = background\n",
        "\n",
        "    # 轉換為灰階圖像\n",
        "    image_gray = image_pil.convert(\"L\")\n",
        "\n",
        "    # 將灰階圖像縮放到28x28，轉回numpy array\n",
        "    img_array = np.array(image_gray.resize((28, 28), resample=Image.LANCZOS))\n",
        "\n",
        "    # 配合MNIST數據集\n",
        "    img_array = 255 - img_array\n",
        "\n",
        "    # 拉平並縮放\n",
        "    img_array = img_array.reshape(1, 784) / 255.0\n",
        "\n",
        "    return img_array"
      ]
    },
    {
      "cell_type": "code",
      "execution_count": 15,
      "metadata": {
        "id": "8RXEk8Cv4Mdi"
      },
      "outputs": [],
      "source": [
        "def recognize_digit(inp):\n",
        "    img_array = resize_image(inp)\n",
        "    prediction = model.predict(img_array).flatten()\n",
        "    labels = list('0123456789')\n",
        "    return {labels[i]: float(prediction[i]) for i in range(10)}"
      ]
    },
    {
      "cell_type": "code",
      "execution_count": null,
      "metadata": {
        "colab": {
          "background_save": true,
          "base_uri": "https://localhost:8080/",
          "height": 611
        },
        "id": "Kb71ncAozZx4",
        "outputId": "0e00a0d6-656b-48e7-99cd-a235fe42906d"
      },
      "outputs": [
        {
          "output_type": "stream",
          "name": "stdout",
          "text": [
            "Colab notebook detected. This cell will run indefinitely so that you can see errors and logs. To turn off, set debug=False in launch().\n",
            "* Running on public URL: https://0dbb42da0682dc511b.gradio.live\n",
            "\n",
            "This share link expires in 72 hours. For free permanent hosting and GPU upgrades, run `gradio deploy` from the terminal in the working directory to deploy to Hugging Face Spaces (https://huggingface.co/spaces)\n"
          ]
        },
        {
          "output_type": "display_data",
          "data": {
            "text/plain": [
              "<IPython.core.display.HTML object>"
            ],
            "text/html": [
              "<div><iframe src=\"https://0dbb42da0682dc511b.gradio.live\" width=\"100%\" height=\"500\" allow=\"autoplay; camera; microphone; clipboard-read; clipboard-write;\" frameborder=\"0\" allowfullscreen></iframe></div>"
            ]
          },
          "metadata": {}
        }
      ],
      "source": [
        "iface = gr.Interface(\n",
        "    fn=recognize_digit,\n",
        "    inputs=gr.Sketchpad(),\n",
        "    outputs=gr.Label(num_top_classes=3),\n",
        "    title=\"MNIST 手寫辨識\",\n",
        "    description=\"請在畫板上繪製數字\"\n",
        ")\n",
        "\n",
        "iface.launch(share=True, debug=True)"
      ]
    },
    {
      "cell_type": "markdown",
      "metadata": {
        "id": "yJjbbxRDBr30"
      },
      "source": [
        "![20250225手寫辨識.png](data:image/png;base64,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)"
      ]
    }
  ],
  "metadata": {
    "colab": {
      "provenance": [],
      "authorship_tag": "ABX9TyPKIq8KDTzWO7N+wEyTCNUy",
      "include_colab_link": true
    },
    "kernelspec": {
      "display_name": "Python 3",
      "name": "python3"
    },
    "language_info": {
      "name": "python"
    },
    "widgets": {
      "application/vnd.jupyter.widget-state+json": {
        "3b0cf76f96414602b04e2b87f0eaf1e3": {
          "model_module": "@jupyter-widgets/controls",
          "model_name": "VBoxModel",
          "model_module_version": "1.5.0",
          "state": {
            "_dom_classes": [
              "widget-interact"
            ],
            "_model_module": "@jupyter-widgets/controls",
            "_model_module_version": "1.5.0",
            "_model_name": "VBoxModel",
            "_view_count": null,
            "_view_module": "@jupyter-widgets/controls",
            "_view_module_version": "1.5.0",
            "_view_name": "VBoxView",
            "box_style": "",
            "children": [
              "IPY_MODEL_13119950fb7a4d0d91b3cded2edd62b2",
              "IPY_MODEL_a2894b13b8dc40dbb1565a74d7c7a42d",
              "IPY_MODEL_ba077ce1f7624cc194e851e772567270"
            ],
            "layout": "IPY_MODEL_43b085a810994e068403ced2042a7264"
          }
        },
        "13119950fb7a4d0d91b3cded2edd62b2": {
          "model_module": "@jupyter-widgets/controls",
          "model_name": "IntSliderModel",
          "model_module_version": "1.5.0",
          "state": {
            "_dom_classes": [],
            "_model_module": "@jupyter-widgets/controls",
            "_model_module_version": "1.5.0",
            "_model_name": "IntSliderModel",
            "_view_count": null,
            "_view_module": "@jupyter-widgets/controls",
            "_view_module_version": "1.5.0",
            "_view_name": "IntSliderView",
            "continuous_update": true,
            "description": "測試編號",
            "description_tooltip": null,
            "disabled": false,
            "layout": "IPY_MODEL_71666acc4e8b4dc6b4831eb733d1580b",
            "max": 9999,
            "min": 0,
            "orientation": "horizontal",
            "readout": true,
            "readout_format": "d",
            "step": 1,
            "style": "IPY_MODEL_f97e87b6fd86472ca138af45c09668f4",
            "value": 4999
          }
        },
        "a2894b13b8dc40dbb1565a74d7c7a42d": {
          "model_module": "@jupyter-widgets/controls",
          "model_name": "ButtonModel",
          "model_module_version": "1.5.0",
          "state": {
            "_dom_classes": [],
            "_model_module": "@jupyter-widgets/controls",
            "_model_module_version": "1.5.0",
            "_model_name": "ButtonModel",
            "_view_count": null,
            "_view_module": "@jupyter-widgets/controls",
            "_view_module_version": "1.5.0",
            "_view_name": "ButtonView",
            "button_style": "",
            "description": "Run Interact",
            "disabled": false,
            "icon": "",
            "layout": "IPY_MODEL_73b7db2adc454270bc70f9b237fe56f9",
            "style": "IPY_MODEL_f9020a53a1504f34a7015a2d228131dd",
            "tooltip": ""
          }
        },
        "ba077ce1f7624cc194e851e772567270": {
          "model_module": "@jupyter-widgets/output",
          "model_name": "OutputModel",
          "model_module_version": "1.0.0",
          "state": {
            "_dom_classes": [],
            "_model_module": "@jupyter-widgets/output",
            "_model_module_version": "1.0.0",
            "_model_name": "OutputModel",
            "_view_count": null,
            "_view_module": "@jupyter-widgets/output",
            "_view_module_version": "1.0.0",
            "_view_name": "OutputView",
            "layout": "IPY_MODEL_1d07134b5d31453798397d11449ef768",
            "msg_id": "",
            "outputs": [
              {
                "output_type": "stream",
                "name": "stdout",
                "text": [
                  "此筆資料神經網路判斷為0，實際答案為0，判斷正確V\n"
                ]
              },
              {
                "output_type": "display_data",
                "data": {
                  "text/plain": "<Figure size 640x480 with 1 Axes>",
                  "image/png": "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\n"
                },
                "metadata": {}
              }
            ]
          }
        },
        "43b085a810994e068403ced2042a7264": {
          "model_module": "@jupyter-widgets/base",
          "model_name": "LayoutModel",
          "model_module_version": "1.2.0",
          "state": {
            "_model_module": "@jupyter-widgets/base",
            "_model_module_version": "1.2.0",
            "_model_name": "LayoutModel",
            "_view_count": null,
            "_view_module": "@jupyter-widgets/base",
            "_view_module_version": "1.2.0",
            "_view_name": "LayoutView",
            "align_content": null,
            "align_items": null,
            "align_self": null,
            "border": null,
            "bottom": null,
            "display": null,
            "flex": null,
            "flex_flow": null,
            "grid_area": null,
            "grid_auto_columns": null,
            "grid_auto_flow": null,
            "grid_auto_rows": null,
            "grid_column": null,
            "grid_gap": null,
            "grid_row": null,
            "grid_template_areas": null,
            "grid_template_columns": null,
            "grid_template_rows": null,
            "height": null,
            "justify_content": null,
            "justify_items": null,
            "left": null,
            "margin": null,
            "max_height": null,
            "max_width": null,
            "min_height": null,
            "min_width": null,
            "object_fit": null,
            "object_position": null,
            "order": null,
            "overflow": null,
            "overflow_x": null,
            "overflow_y": null,
            "padding": null,
            "right": null,
            "top": null,
            "visibility": null,
            "width": null
          }
        },
        "71666acc4e8b4dc6b4831eb733d1580b": {
          "model_module": "@jupyter-widgets/base",
          "model_name": "LayoutModel",
          "model_module_version": "1.2.0",
          "state": {
            "_model_module": "@jupyter-widgets/base",
            "_model_module_version": "1.2.0",
            "_model_name": "LayoutModel",
            "_view_count": null,
            "_view_module": "@jupyter-widgets/base",
            "_view_module_version": "1.2.0",
            "_view_name": "LayoutView",
            "align_content": null,
            "align_items": null,
            "align_self": null,
            "border": null,
            "bottom": null,
            "display": null,
            "flex": null,
            "flex_flow": null,
            "grid_area": null,
            "grid_auto_columns": null,
            "grid_auto_flow": null,
            "grid_auto_rows": null,
            "grid_column": null,
            "grid_gap": null,
            "grid_row": null,
            "grid_template_areas": null,
            "grid_template_columns": null,
            "grid_template_rows": null,
            "height": null,
            "justify_content": null,
            "justify_items": null,
            "left": null,
            "margin": null,
            "max_height": null,
            "max_width": null,
            "min_height": null,
            "min_width": null,
            "object_fit": null,
            "object_position": null,
            "order": null,
            "overflow": null,
            "overflow_x": null,
            "overflow_y": null,
            "padding": null,
            "right": null,
            "top": null,
            "visibility": null,
            "width": null
          }
        },
        "f97e87b6fd86472ca138af45c09668f4": {
          "model_module": "@jupyter-widgets/controls",
          "model_name": "SliderStyleModel",
          "model_module_version": "1.5.0",
          "state": {
            "_model_module": "@jupyter-widgets/controls",
            "_model_module_version": "1.5.0",
            "_model_name": "SliderStyleModel",
            "_view_count": null,
            "_view_module": "@jupyter-widgets/base",
            "_view_module_version": "1.2.0",
            "_view_name": "StyleView",
            "description_width": "",
            "handle_color": null
          }
        },
        "73b7db2adc454270bc70f9b237fe56f9": {
          "model_module": "@jupyter-widgets/base",
          "model_name": "LayoutModel",
          "model_module_version": "1.2.0",
          "state": {
            "_model_module": "@jupyter-widgets/base",
            "_model_module_version": "1.2.0",
            "_model_name": "LayoutModel",
            "_view_count": null,
            "_view_module": "@jupyter-widgets/base",
            "_view_module_version": "1.2.0",
            "_view_name": "LayoutView",
            "align_content": null,
            "align_items": null,
            "align_self": null,
            "border": null,
            "bottom": null,
            "display": null,
            "flex": null,
            "flex_flow": null,
            "grid_area": null,
            "grid_auto_columns": null,
            "grid_auto_flow": null,
            "grid_auto_rows": null,
            "grid_column": null,
            "grid_gap": null,
            "grid_row": null,
            "grid_template_areas": null,
            "grid_template_columns": null,
            "grid_template_rows": null,
            "height": null,
            "justify_content": null,
            "justify_items": null,
            "left": null,
            "margin": null,
            "max_height": null,
            "max_width": null,
            "min_height": null,
            "min_width": null,
            "object_fit": null,
            "object_position": null,
            "order": null,
            "overflow": null,
            "overflow_x": null,
            "overflow_y": null,
            "padding": null,
            "right": null,
            "top": null,
            "visibility": null,
            "width": null
          }
        },
        "f9020a53a1504f34a7015a2d228131dd": {
          "model_module": "@jupyter-widgets/controls",
          "model_name": "ButtonStyleModel",
          "model_module_version": "1.5.0",
          "state": {
            "_model_module": "@jupyter-widgets/controls",
            "_model_module_version": "1.5.0",
            "_model_name": "ButtonStyleModel",
            "_view_count": null,
            "_view_module": "@jupyter-widgets/base",
            "_view_module_version": "1.2.0",
            "_view_name": "StyleView",
            "button_color": null,
            "font_weight": ""
          }
        },
        "1d07134b5d31453798397d11449ef768": {
          "model_module": "@jupyter-widgets/base",
          "model_name": "LayoutModel",
          "model_module_version": "1.2.0",
          "state": {
            "_model_module": "@jupyter-widgets/base",
            "_model_module_version": "1.2.0",
            "_model_name": "LayoutModel",
            "_view_count": null,
            "_view_module": "@jupyter-widgets/base",
            "_view_module_version": "1.2.0",
            "_view_name": "LayoutView",
            "align_content": null,
            "align_items": null,
            "align_self": null,
            "border": null,
            "bottom": null,
            "display": null,
            "flex": null,
            "flex_flow": null,
            "grid_area": null,
            "grid_auto_columns": null,
            "grid_auto_flow": null,
            "grid_auto_rows": null,
            "grid_column": null,
            "grid_gap": null,
            "grid_row": null,
            "grid_template_areas": null,
            "grid_template_columns": null,
            "grid_template_rows": null,
            "height": null,
            "justify_content": null,
            "justify_items": null,
            "left": null,
            "margin": null,
            "max_height": null,
            "max_width": null,
            "min_height": null,
            "min_width": null,
            "object_fit": null,
            "object_position": null,
            "order": null,
            "overflow": null,
            "overflow_x": null,
            "overflow_y": null,
            "padding": null,
            "right": null,
            "top": null,
            "visibility": null,
            "width": null
          }
        }
      }
    }
  },
  "nbformat": 4,
  "nbformat_minor": 0
}